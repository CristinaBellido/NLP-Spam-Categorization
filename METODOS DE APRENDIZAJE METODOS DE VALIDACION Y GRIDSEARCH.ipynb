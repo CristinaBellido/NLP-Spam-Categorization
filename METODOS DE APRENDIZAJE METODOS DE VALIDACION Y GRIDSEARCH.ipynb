{
 "cells": [
  {
   "cell_type": "code",
   "execution_count": 21,
   "id": "e7d42505",
   "metadata": {},
   "outputs": [
    {
     "name": "stderr",
     "output_type": "stream",
     "text": [
      "[nltk_data] Downloading package stopwords to C:\\Users\\Usuario\n",
      "[nltk_data]     ASUS\\AppData\\Roaming\\nltk_data...\n",
      "[nltk_data]   Package stopwords is already up-to-date!\n",
      "[nltk_data] Downloading package punkt to C:\\Users\\Usuario\n",
      "[nltk_data]     ASUS\\AppData\\Roaming\\nltk_data...\n",
      "[nltk_data]   Package punkt is already up-to-date!\n"
     ]
    }
   ],
   "source": [
    "import pandas as pd\n",
    "import matplotlib.pyplot as plt\n",
    "import seaborn as sns\n",
    "import nltk\n",
    "from nltk.corpus import stopwords\n",
    "from nltk.tokenize import word_tokenize\n",
    "from nltk.probability import FreqDist\n",
    "from wordcloud import WordCloud\n",
    "import nltk\n",
    "nltk.download('stopwords')\n",
    "import nltk\n",
    "nltk.download('punkt')\n",
    "import numpy as np \n",
    "from sklearn.feature_extraction.text import TfidfVectorizer\n",
    "from sklearn.linear_model import LogisticRegression\n",
    "from sklearn.model_selection import train_test_split\n",
    "from sklearn.naive_bayes import GaussianNB\n",
    "from sklearn.model_selection import GridSearchCV\n",
    "from sklearn.ensemble import RandomForestClassifier\n",
    "\n",
    "import pickle\n",
    "# Metricas\n",
    "from sklearn.metrics import jaccard_score\n",
    "from sklearn.metrics import accuracy_score\n",
    "from sklearn.metrics import precision_score\n",
    "from sklearn.metrics import recall_score\n",
    "from sklearn.metrics import f1_score\n",
    "from sklearn.metrics import roc_auc_score\n",
    "from sklearn.metrics import confusion_matrix\n",
    "from sklearn.metrics import classification_report\n",
    "\n",
    "from sklearn.feature_extraction.text import TfidfVectorizer\n",
    "from sklearn.linear_model import LogisticRegression\n",
    "from sklearn.model_selection import train_test_split\n",
    "from sklearn.metrics import jaccard_score, accuracy_score, precision_score, recall_score, f1_score, roc_auc_score\n",
    "\n",
    "from sklearn.naive_bayes import GaussianNB\n",
    "from sklearn.metrics import jaccard_score, accuracy_score, precision_score, recall_score, f1_score, roc_auc_score\n",
    "from sklearn.feature_extraction.text import TfidfVectorizer\n",
    "from sklearn.model_selection import train_test_split\n",
    "\n",
    "from sklearn.tree import DecisionTreeClassifier\n",
    "from sklearn.metrics import precision_score, recall_score, jaccard_score, accuracy_score, f1_score, roc_auc_score\n",
    "from sklearn.model_selection import train_test_split\n",
    "from sklearn.feature_extraction.text import TfidfVectorizer\n",
    "from sklearn.ensemble import RandomForestClassifier\n",
    "from sklearn.metrics import accuracy_score, jaccard_score, precision_score, recall_score, f1_score, roc_auc_score\n",
    "from sklearn.model_selection import train_test_split\n",
    "from sklearn.feature_extraction.text import TfidfVectorizer\n",
    "from sklearn.model_selection import GridSearchCV\n",
    "from sklearn.ensemble import RandomForestClassifier\n",
    "\n",
    "from sklearn.ensemble import RandomForestClassifier, AdaBoostClassifier, GradientBoostingClassifier\n",
    "from sklearn.metrics import accuracy_score, jaccard_score, precision_score, recall_score, f1_score, roc_auc_score\n",
    "from sklearn.model_selection import train_test_split\n",
    "from sklearn.feature_extraction.text import TfidfVectorizer\n",
    "from imblearn.over_sampling import SMOTE \n",
    "import pickle\n",
    "\n",
    "from sklearn.svm import SVC\n",
    "from sklearn.metrics import classification_report, confusion_matrix, jaccard_score, accuracy_score, precision_score, recall_score, f1_score, roc_auc_score"
   ]
  },
  {
   "cell_type": "code",
   "execution_count": 22,
   "id": "dce8ae09",
   "metadata": {},
   "outputs": [],
   "source": [
    "df = pd.read_csv('processed_emails.csv')\n"
   ]
  },
  {
   "cell_type": "code",
   "execution_count": 23,
   "id": "8166dc2f",
   "metadata": {},
   "outputs": [
    {
     "data": {
      "text/html": [
       "<div>\n",
       "<style scoped>\n",
       "    .dataframe tbody tr th:only-of-type {\n",
       "        vertical-align: middle;\n",
       "    }\n",
       "\n",
       "    .dataframe tbody tr th {\n",
       "        vertical-align: top;\n",
       "    }\n",
       "\n",
       "    .dataframe thead th {\n",
       "        text-align: right;\n",
       "    }\n",
       "</style>\n",
       "<table border=\"1\" class=\"dataframe\">\n",
       "  <thead>\n",
       "    <tr style=\"text-align: right;\">\n",
       "      <th></th>\n",
       "      <th>text</th>\n",
       "      <th>spam</th>\n",
       "      <th>email_length</th>\n",
       "      <th>text_prepr</th>\n",
       "    </tr>\n",
       "  </thead>\n",
       "  <tbody>\n",
       "    <tr>\n",
       "      <th>0</th>\n",
       "      <td>Subject: naturally irresistible your corporate...</td>\n",
       "      <td>1</td>\n",
       "      <td>1484</td>\n",
       "      <td>subject naturally irresistible corporate ident...</td>\n",
       "    </tr>\n",
       "    <tr>\n",
       "      <th>1</th>\n",
       "      <td>Subject: the stock trading gunslinger  fanny i...</td>\n",
       "      <td>1</td>\n",
       "      <td>598</td>\n",
       "      <td>subject stock trading gunslinger fanny merrill...</td>\n",
       "    </tr>\n",
       "    <tr>\n",
       "      <th>2</th>\n",
       "      <td>Subject: unbelievable new homes made easy  im ...</td>\n",
       "      <td>1</td>\n",
       "      <td>448</td>\n",
       "      <td>subject unbelievable new homes made easy im wa...</td>\n",
       "    </tr>\n",
       "    <tr>\n",
       "      <th>3</th>\n",
       "      <td>Subject: 4 color printing special  request add...</td>\n",
       "      <td>1</td>\n",
       "      <td>500</td>\n",
       "      <td>subject color printing special request additio...</td>\n",
       "    </tr>\n",
       "    <tr>\n",
       "      <th>4</th>\n",
       "      <td>Subject: do not have money , get software cds ...</td>\n",
       "      <td>1</td>\n",
       "      <td>235</td>\n",
       "      <td>subject money get software cds software compat...</td>\n",
       "    </tr>\n",
       "  </tbody>\n",
       "</table>\n",
       "</div>"
      ],
      "text/plain": [
       "                                                text  spam  email_length  \\\n",
       "0  Subject: naturally irresistible your corporate...     1          1484   \n",
       "1  Subject: the stock trading gunslinger  fanny i...     1           598   \n",
       "2  Subject: unbelievable new homes made easy  im ...     1           448   \n",
       "3  Subject: 4 color printing special  request add...     1           500   \n",
       "4  Subject: do not have money , get software cds ...     1           235   \n",
       "\n",
       "                                          text_prepr  \n",
       "0  subject naturally irresistible corporate ident...  \n",
       "1  subject stock trading gunslinger fanny merrill...  \n",
       "2  subject unbelievable new homes made easy im wa...  \n",
       "3  subject color printing special request additio...  \n",
       "4  subject money get software cds software compat...  "
      ]
     },
     "execution_count": 23,
     "metadata": {},
     "output_type": "execute_result"
    }
   ],
   "source": [
    "df.head(5)"
   ]
  },
  {
   "cell_type": "code",
   "execution_count": 24,
   "id": "d91025e0",
   "metadata": {},
   "outputs": [],
   "source": [
    "df['text_prepr'].fillna('', inplace=True)"
   ]
  },
  {
   "cell_type": "code",
   "execution_count": 25,
   "id": "9df2c8c5",
   "metadata": {},
   "outputs": [
    {
     "data": {
      "text/plain": [
       "(11300, 4)"
      ]
     },
     "execution_count": 25,
     "metadata": {},
     "output_type": "execute_result"
    }
   ],
   "source": [
    "df.shape"
   ]
  },
  {
   "cell_type": "markdown",
   "id": "c5bff7c4",
   "metadata": {},
   "source": [
    "# MÉTODOS Y SMOTE"
   ]
  },
  {
   "cell_type": "code",
   "execution_count": 13,
   "id": "5682acf3",
   "metadata": {},
   "outputs": [
    {
     "name": "stdout",
     "output_type": "stream",
     "text": [
      "Train Shape: (9040, 36489)\n",
      "Test Shape: (2260, 36489)\n"
     ]
    }
   ],
   "source": [
    "vectorizer = TfidfVectorizer()\n",
    "X = vectorizer.fit_transform(df['text_prepr'])\n",
    "y = df['spam']\n",
    "X_train, X_test, y_train, y_test = train_test_split(X, y, test_size=0.2, random_state = 42, stratify = y)\n",
    "\n",
    "print(f\"Train Shape: {X_train.shape}\")\n",
    "print(f\"Test Shape: {X_test.shape}\")"
   ]
  },
  {
   "cell_type": "code",
   "execution_count": 57,
   "id": "c82cc46a",
   "metadata": {},
   "outputs": [],
   "source": [
    "modelo_vectorizer = \"vectorizer.pkl\"\n",
    "with open (modelo_vectorizer, \"wb\") as file:\n",
    "    pickle.dump(vectorizer, file)"
   ]
  },
  {
   "cell_type": "code",
   "execution_count": 26,
   "id": "aed43e43",
   "metadata": {},
   "outputs": [],
   "source": [
    "def modelos(X_train, y_train, X_test, y_test):\n",
    "    modelos = [LogisticRegression(), RandomForestClassifier(),\n",
    "               AdaBoostClassifier(), GradientBoostingClassifier(), SVC(kernel = \"linear\"), DecisionTreeClassifier()]\n",
    "\n",
    "    data = list()\n",
    "\n",
    "    for model in modelos:\n",
    "\n",
    "        print(str(model))\n",
    "\n",
    "        model.fit(X_train, y_train)\n",
    "        yhat = model.predict(X_test)\n",
    "\n",
    "        jac = jaccard_score(y_test, yhat, average = \"macro\")\n",
    "        acc = accuracy_score(y_test, yhat)\n",
    "        pre = precision_score(y_test, yhat, average = \"macro\")\n",
    "        rec = recall_score(y_test, yhat, average = \"macro\")\n",
    "        f1_ = f1_score(y_test, yhat, average = \"macro\")\n",
    "        roc = roc_auc_score(y_test, yhat)\n",
    "        con = confusion_matrix(y_test, yhat)\n",
    "\n",
    "        data.append([str(model), jac, acc, pre, rec, f1_, roc, con, model])\n",
    "\n",
    "    df_metricas = pd.DataFrame(data = data,\n",
    "                               columns = [\"name\", \"jaccard\", \"accuracy\", \"precision\", \"recall\", \"f1\", \"roc_auc\", \"cm\", \"model\"])\n",
    "    return df_metricas"
   ]
  },
  {
   "cell_type": "code",
   "execution_count": 2,
   "id": "f9d3afef",
   "metadata": {},
   "outputs": [],
   "source": [
    "import pickle\n",
    "with open (\"model.pkl\", \"rb\") as file:\n",
    "    modelo = pickle.load(file)\n",
    "    \n",
    "with open(\"model.pkl\", \"wb\") as file:\n",
    "    pickle.dump(modelo, file, -1)"
   ]
  },
  {
   "cell_type": "code",
   "execution_count": 28,
   "id": "3bf9685d",
   "metadata": {},
   "outputs": [
    {
     "name": "stdout",
     "output_type": "stream",
     "text": [
      "LogisticRegression()\n",
      "RandomForestClassifier()\n",
      "AdaBoostClassifier()\n",
      "GradientBoostingClassifier()\n",
      "SVC(kernel='linear')\n",
      "DecisionTreeClassifier()\n"
     ]
    }
   ],
   "source": [
    "from imblearn.over_sampling import SMOTE \n",
    "\n",
    "oversampling = SMOTE(sampling_strategy=0.30)\n",
    "X_balanceado, y_balanceado = oversampling.fit_resample(X, y) # Se obtienen nuevos X e y balanceados\n",
    "\n",
    "X_train, X_test, y_train, y_test = train_test_split(X_balanceado, y_balanceado, test_size = 0.3, random_state = 0)\n",
    "\n",
    "df_metricas = modelos(X_train, y_train, X_test, y_test)\n"
   ]
  },
  {
   "cell_type": "code",
   "execution_count": 29,
   "id": "fd4a24e4",
   "metadata": {},
   "outputs": [
    {
     "data": {
      "text/html": [
       "<div>\n",
       "<style scoped>\n",
       "    .dataframe tbody tr th:only-of-type {\n",
       "        vertical-align: middle;\n",
       "    }\n",
       "\n",
       "    .dataframe tbody tr th {\n",
       "        vertical-align: top;\n",
       "    }\n",
       "\n",
       "    .dataframe thead th {\n",
       "        text-align: right;\n",
       "    }\n",
       "</style>\n",
       "<table border=\"1\" class=\"dataframe\">\n",
       "  <thead>\n",
       "    <tr style=\"text-align: right;\">\n",
       "      <th></th>\n",
       "      <th>name</th>\n",
       "      <th>jaccard</th>\n",
       "      <th>accuracy</th>\n",
       "      <th>precision</th>\n",
       "      <th>recall</th>\n",
       "      <th>f1</th>\n",
       "      <th>roc_auc</th>\n",
       "      <th>cm</th>\n",
       "      <th>model</th>\n",
       "    </tr>\n",
       "  </thead>\n",
       "  <tbody>\n",
       "    <tr>\n",
       "      <th>4</th>\n",
       "      <td>SVC(kernel='linear')</td>\n",
       "      <td>0.936242</td>\n",
       "      <td>0.977945</td>\n",
       "      <td>0.976964</td>\n",
       "      <td>0.957289</td>\n",
       "      <td>0.966709</td>\n",
       "      <td>0.957289</td>\n",
       "      <td>[[2792, 18], [61, 711]]</td>\n",
       "      <td>SVC(kernel='linear')</td>\n",
       "    </tr>\n",
       "    <tr>\n",
       "      <th>1</th>\n",
       "      <td>RandomForestClassifier()</td>\n",
       "      <td>0.931472</td>\n",
       "      <td>0.976549</td>\n",
       "      <td>0.982182</td>\n",
       "      <td>0.948414</td>\n",
       "      <td>0.964089</td>\n",
       "      <td>0.948414</td>\n",
       "      <td>[[2804, 6], [78, 694]]</td>\n",
       "      <td>(DecisionTreeClassifier(max_features='auto', r...</td>\n",
       "    </tr>\n",
       "    <tr>\n",
       "      <th>5</th>\n",
       "      <td>DecisionTreeClassifier()</td>\n",
       "      <td>0.885084</td>\n",
       "      <td>0.957845</td>\n",
       "      <td>0.936451</td>\n",
       "      <td>0.939311</td>\n",
       "      <td>0.937871</td>\n",
       "      <td>0.939311</td>\n",
       "      <td>[[2731, 79], [72, 700]]</td>\n",
       "      <td>DecisionTreeClassifier()</td>\n",
       "    </tr>\n",
       "    <tr>\n",
       "      <th>2</th>\n",
       "      <td>AdaBoostClassifier()</td>\n",
       "      <td>0.869690</td>\n",
       "      <td>0.953099</td>\n",
       "      <td>0.941784</td>\n",
       "      <td>0.917027</td>\n",
       "      <td>0.928678</td>\n",
       "      <td>0.917027</td>\n",
       "      <td>[[2755, 55], [113, 659]]</td>\n",
       "      <td>(DecisionTreeClassifier(max_depth=1, random_st...</td>\n",
       "    </tr>\n",
       "    <tr>\n",
       "      <th>0</th>\n",
       "      <td>LogisticRegression()</td>\n",
       "      <td>0.886407</td>\n",
       "      <td>0.960637</td>\n",
       "      <td>0.967086</td>\n",
       "      <td>0.915725</td>\n",
       "      <td>0.938501</td>\n",
       "      <td>0.915725</td>\n",
       "      <td>[[2795, 15], [126, 646]]</td>\n",
       "      <td>LogisticRegression()</td>\n",
       "    </tr>\n",
       "    <tr>\n",
       "      <th>3</th>\n",
       "      <td>GradientBoostingClassifier()</td>\n",
       "      <td>0.866889</td>\n",
       "      <td>0.953099</td>\n",
       "      <td>0.953236</td>\n",
       "      <td>0.905753</td>\n",
       "      <td>0.926916</td>\n",
       "      <td>0.905753</td>\n",
       "      <td>[[2779, 31], [137, 635]]</td>\n",
       "      <td>([DecisionTreeRegressor(criterion='friedman_ms...</td>\n",
       "    </tr>\n",
       "  </tbody>\n",
       "</table>\n",
       "</div>"
      ],
      "text/plain": [
       "                           name   jaccard  accuracy  precision    recall  \\\n",
       "4          SVC(kernel='linear')  0.936242  0.977945   0.976964  0.957289   \n",
       "1      RandomForestClassifier()  0.931472  0.976549   0.982182  0.948414   \n",
       "5      DecisionTreeClassifier()  0.885084  0.957845   0.936451  0.939311   \n",
       "2          AdaBoostClassifier()  0.869690  0.953099   0.941784  0.917027   \n",
       "0          LogisticRegression()  0.886407  0.960637   0.967086  0.915725   \n",
       "3  GradientBoostingClassifier()  0.866889  0.953099   0.953236  0.905753   \n",
       "\n",
       "         f1   roc_auc                        cm  \\\n",
       "4  0.966709  0.957289   [[2792, 18], [61, 711]]   \n",
       "1  0.964089  0.948414    [[2804, 6], [78, 694]]   \n",
       "5  0.937871  0.939311   [[2731, 79], [72, 700]]   \n",
       "2  0.928678  0.917027  [[2755, 55], [113, 659]]   \n",
       "0  0.938501  0.915725  [[2795, 15], [126, 646]]   \n",
       "3  0.926916  0.905753  [[2779, 31], [137, 635]]   \n",
       "\n",
       "                                               model  \n",
       "4                               SVC(kernel='linear')  \n",
       "1  (DecisionTreeClassifier(max_features='auto', r...  \n",
       "5                           DecisionTreeClassifier()  \n",
       "2  (DecisionTreeClassifier(max_depth=1, random_st...  \n",
       "0                               LogisticRegression()  \n",
       "3  ([DecisionTreeRegressor(criterion='friedman_ms...  "
      ]
     },
     "execution_count": 29,
     "metadata": {},
     "output_type": "execute_result"
    }
   ],
   "source": [
    "df_metricas.sort_values(by='roc_auc', ascending=False)"
   ]
  },
  {
   "cell_type": "code",
   "execution_count": 30,
   "id": "110607ef",
   "metadata": {},
   "outputs": [
    {
     "name": "stdout",
     "output_type": "stream",
     "text": [
      "Train Shape: (8358, 36489)\n",
      "Test Shape: (3582, 36489)\n"
     ]
    }
   ],
   "source": [
    "print(f\"Train Shape: {X_train.shape}\")\n",
    "print(f\"Test Shape: {X_test.shape}\")"
   ]
  },
  {
   "cell_type": "markdown",
   "id": "58272535",
   "metadata": {},
   "source": [
    "# Random Forest"
   ]
  },
  {
   "cell_type": "markdown",
   "id": "4196b3b3",
   "metadata": {},
   "source": [
    "# GridSearch"
   ]
  },
  {
   "cell_type": "code",
   "execution_count": 33,
   "id": "ce3be501",
   "metadata": {},
   "outputs": [
    {
     "name": "stdout",
     "output_type": "stream",
     "text": [
      "Mejores parámetros encontrados:  {'max_depth': None, 'min_samples_leaf': 1, 'min_samples_split': 10, 'n_estimators': 500}\n",
      "Mejor puntuación en la validación cruzada:  0.9697295405152346\n"
     ]
    }
   ],
   "source": [
    "from sklearn.model_selection import GridSearchCV\n",
    "from sklearn.ensemble import RandomForestClassifier\n",
    "\n",
    "param_grid = {\n",
    "    'n_estimators': [100, 200, 500],\n",
    "    'max_depth': [ None, 5, 10, 20],\n",
    "    'min_samples_split': [2, 5, 10],\n",
    "    'min_samples_leaf': [1, 2, 4]\n",
    "}\n",
    "\n",
    "clf = RandomForestClassifier()\n",
    "grid_search = GridSearchCV(clf, param_grid, cv=5, scoring='accuracy')\n",
    "grid_search.fit(X_train, y_train)\n",
    "\n",
    "print(\"Mejores parámetros encontrados: \", grid_search.best_params_)\n",
    "print(\"Mejor puntuación en la validación cruzada: \", grid_search.best_score_)\n"
   ]
  },
  {
   "cell_type": "code",
   "execution_count": 36,
   "id": "aa183c90",
   "metadata": {},
   "outputs": [],
   "source": [
    "def random_forest(df, target, leaf=None, split=None, max_depth=None, n_estimators=None):\n",
    "\n",
    "    model = RandomForestClassifier(min_samples_leaf=leaf, \n",
    "                                   min_samples_split=split, \n",
    "                                   max_depth=max_depth, \n",
    "                                   n_estimators=n_estimators)\n",
    "        \n",
    "   # X_train = X_train.toarray()\n",
    "    #X_test = X_test.toarray()\n",
    "    model.fit(X_train, y_train)\n",
    "    \n",
    "    yhat = model.predict(X_test)\n",
    "    model.fit(X_train, y_train)\n",
    "    yhat = model.predict(X_test)\n",
    "    filename = 'model.pkl'\n",
    "    with open(\"model.pkl\", \"wb\") as file:\n",
    "        pickle.dump(model, file, -1)\n",
    "    print(\"Jaccard Index:\", jaccard_score(y_test, yhat, average = \"macro\"))\n",
    "    print(\"Accuracy:\"     , accuracy_score(y_test, yhat))\n",
    "    print(\"Precisión:\"    , precision_score(y_test, yhat, average = \"macro\"))\n",
    "    print(\"Sensibilidad:\" , recall_score(y_test, yhat, average = \"macro\"))\n",
    "    print(\"F1-score:\"     , f1_score(y_test, yhat, average = \"macro\"))\n",
    "    print(\"ROC AUC:\"      , roc_auc_score(y_test, yhat)) \n",
    "    print(\"Accuracy:\", accuracy_score(y_test, yhat))\n",
    "    print(\"Classification Report:\", classification_report(y_test, yhat))\n",
    "    \n"
   ]
  },
  {
   "cell_type": "code",
   "execution_count": 37,
   "id": "9bef3e6a",
   "metadata": {
    "scrolled": true
   },
   "outputs": [
    {
     "name": "stdout",
     "output_type": "stream",
     "text": [
      "Jaccard Index: 0.9418585935573539\n",
      "Accuracy: 0.980178671133445\n",
      "Precisión: 0.9860522723079761\n",
      "Sensibilidad: 0.9554247413936164\n",
      "F1-score: 0.969752792391636\n",
      "ROC AUC: 0.9554247413936164\n",
      "Accuracy: 0.980178671133445\n",
      "Classification Report:               precision    recall  f1-score   support\n",
      "\n",
      "           0       0.98      1.00      0.99      2810\n",
      "           1       1.00      0.91      0.95       772\n",
      "\n",
      "    accuracy                           0.98      3582\n",
      "   macro avg       0.99      0.96      0.97      3582\n",
      "weighted avg       0.98      0.98      0.98      3582\n",
      "\n"
     ]
    }
   ],
   "source": [
    "random_forest(df, \"spam\", leaf = 1 , split = 10, max_depth = None, n_estimators = 500)"
   ]
  },
  {
   "cell_type": "code",
   "execution_count": null,
   "id": "7293bee2",
   "metadata": {},
   "outputs": [],
   "source": []
  },
  {
   "cell_type": "code",
   "execution_count": null,
   "id": "4e7ef525",
   "metadata": {},
   "outputs": [],
   "source": []
  },
  {
   "cell_type": "code",
   "execution_count": null,
   "id": "a1af7865",
   "metadata": {},
   "outputs": [],
   "source": []
  }
 ],
 "metadata": {
  "kernelspec": {
   "display_name": "Python 3 (ipykernel)",
   "language": "python",
   "name": "python3"
  },
  "language_info": {
   "codemirror_mode": {
    "name": "ipython",
    "version": 3
   },
   "file_extension": ".py",
   "mimetype": "text/x-python",
   "name": "python",
   "nbconvert_exporter": "python",
   "pygments_lexer": "ipython3",
   "version": "3.9.12"
  }
 },
 "nbformat": 4,
 "nbformat_minor": 5
}
